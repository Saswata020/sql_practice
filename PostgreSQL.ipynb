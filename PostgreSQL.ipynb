{
  "nbformat": 4,
  "nbformat_minor": 0,
  "metadata": {
    "colab": {
      "provenance": [],
      "authorship_tag": "ABX9TyObZ2Vh3hnvN7KBXghRSAbz",
      "include_colab_link": true
    },
    "kernelspec": {
      "name": "python3",
      "display_name": "Python 3"
    },
    "language_info": {
      "name": "python"
    }
  },
  "cells": [
    {
      "cell_type": "markdown",
      "metadata": {
        "id": "view-in-github",
        "colab_type": "text"
      },
      "source": [
        "<a href=\"https://colab.research.google.com/github/Saswata020/sql_practice/blob/main/PostgreSQL.ipynb\" target=\"_parent\"><img src=\"https://colab.research.google.com/assets/colab-badge.svg\" alt=\"Open In Colab\"/></a>"
      ]
    },
    {
      "cell_type": "markdown",
      "source": [
        "1. Write a SQL statement to create a simple table countries including columns country_id,country_name and region_id."
      ],
      "metadata": {
        "id": "MnqLcVPNOO40"
      }
    },
    {
      "cell_type": "markdown",
      "source": [
        "\n",
        "\n",
        "```\n",
        "CREATE TABLE countries (\n",
        "    country_id INT PRIMARY KEY,\n",
        "    country_name VARCHAR(255),\n",
        "    region_id INT\n",
        ");\n",
        "\n",
        "```\n",
        "\n"
      ],
      "metadata": {
        "id": "j3teN1NGPPlZ"
      }
    },
    {
      "cell_type": "markdown",
      "source": [
        "2. Write a SQL statement to create a table named jobs including columns job_id, job_title, min_salary, max_salary and check whether the max_salary amount exceeding the upper limit 25000."
      ],
      "metadata": {
        "id": "QNe3zWyJPUhP"
      }
    },
    {
      "cell_type": "markdown",
      "source": [
        "\n",
        "\n",
        "```\n",
        "\n",
        "Create the jobs table\n",
        "CREATE TABLE jobs (\n",
        "    job_id INT PRIMARY KEY,\n",
        "    job_title VARCHAR(20),\n",
        "    min_salary INT NOT NULL,\n",
        "    max_salary INT NOT NULL\n",
        ");\n",
        "\n",
        "-- Insert some sample data into the jobs table (you can replace this with your own data)\n",
        "INSERT INTO jobs (job_id, job_title, min_salary, max_salary)\n",
        "VALUES\n",
        "    (1, 'Manager', 30000, 50000),\n",
        "    (2, 'Engineer', 25000, 45000),\n",
        "    (3, 'Analyst', 28000, 55000);\n",
        "\n",
        "-- Check for max_salary exceeding 25,000\n",
        "SELECT job_id, job_title, max_salary\n",
        "FROM jobs\n",
        "WHERE max_salary > 25000;\n",
        "\n",
        "```\n",
        "\n"
      ],
      "metadata": {
        "id": "91SGnnGIX6gW"
      }
    },
    {
      "cell_type": "markdown",
      "source": [
        "3.Write a SQL statement to create a table named countries including columns country_id, country_name and region_id and make sure that no countries except Italy, India and China will be entered in the table."
      ],
      "metadata": {
        "id": "pYePsY0VYX_y"
      }
    },
    {
      "cell_type": "markdown",
      "source": [
        "\n",
        "\n",
        "```\n",
        "\n",
        "CREATE TABLE countries (\n",
        "    country_id INT PRIMARY KEY,\n",
        "    country_name VARCHAR(255),\n",
        "    region_id INT,\n",
        "    CONSTRAINT allowed_countries CHECK (country_name IN ('Italy', 'India', 'China'))\n",
        ");\n",
        "\n",
        "```\n",
        "\n"
      ],
      "metadata": {
        "id": "PhjkBk38Yb2X"
      }
    },
    {
      "cell_type": "markdown",
      "source": [
        "4.Write a SQL statement to create a table named countries including columns country_id,country_name and region_id and make sure that no duplicate data against column country_id will be allowed at the time of insertion."
      ],
      "metadata": {
        "id": "MrvTR03uYqAR"
      }
    },
    {
      "cell_type": "markdown",
      "source": [
        "\n",
        "\n",
        "```\n",
        "CREATE TABLE countries (\n",
        "    country_id INT PRIMARY KEY,\n",
        "    country_name VARCHAR(255),\n",
        "    region_id INT,\n",
        "    CONSTRAINT unique_country_id UNIQUE (country_id)\n",
        ");\n",
        "\n",
        "```\n",
        "\n"
      ],
      "metadata": {
        "id": "xHjbRtTgbBIw"
      }
    },
    {
      "cell_type": "markdown",
      "source": [
        "5.Write a SQL statement to create a table named jobs including columns job_id, job_title, min_salary and max_salary, and make sure that, the default value for job_title is blank and min_salary is 8000 and max_salary is NULL will be entered automatically at the time of insertion if no value assigned for the specified columns"
      ],
      "metadata": {
        "id": "SyM8QaEAdDf2"
      }
    },
    {
      "cell_type": "markdown",
      "source": [
        "\n",
        "\n",
        "```\n",
        "CREATE TABLE jobs (\n",
        "    job_id INT PRIMARY KEY,\n",
        "    job_title VARCHAR(255) DEFAULT '',\n",
        "    min_salary INT DEFAULT 8000,\n",
        "    max_salary INT DEFAULT NULL\n",
        ");\n",
        "\n",
        "```\n",
        "\n"
      ],
      "metadata": {
        "id": "TgBEG_9WdHRt"
      }
    },
    {
      "cell_type": "markdown",
      "source": [
        "6.Write a SQL statement to create a table named countries including columns country_id, country_name and region_id and make sure that the country_id column will be a key field which will not contain any duplicate data at the time of insertion."
      ],
      "metadata": {
        "id": "6qSGTiX9fW9E"
      }
    },
    {
      "cell_type": "markdown",
      "source": [
        "\n",
        "\n",
        "```\n",
        "CREATE TABLE countries (\n",
        "    country_id INT PRIMARY KEY,\n",
        "    country_name VARCHAR(255),\n",
        "    region_id INT\n",
        ");\n",
        "\n",
        "```\n",
        "\n"
      ],
      "metadata": {
        "id": "4Dh-2p7IfY8n"
      }
    },
    {
      "cell_type": "markdown",
      "source": [
        "#SQL_EDUREKA"
      ],
      "metadata": {
        "id": "bo1MQAezFwrK"
      }
    },
    {
      "cell_type": "markdown",
      "source": [
        "###Create employee table"
      ],
      "metadata": {
        "id": "ooqmvox_F5_7"
      }
    },
    {
      "cell_type": "markdown",
      "source": [
        "\n",
        "\n",
        "```\n",
        "\n",
        "CREATE TABLE employee (\n",
        "  EmpID INT PRIMARY KEY,\n",
        "  EmpFname VARCHAR(255) ,\n",
        "  EmpLname VARCHAR(255) ,\n",
        "  Department VARCHAR(50) ,\n",
        "  Project VARCHAR(50) ,\n",
        "  Address VARCHAR(255) ,\n",
        "  DOB DATE ,\n",
        "  Gender VARCHAR(25)\n",
        ");\n",
        "\n",
        "```\n",
        "\n"
      ],
      "metadata": {
        "id": "4J9En-IJF58Y"
      }
    },
    {
      "cell_type": "markdown",
      "source": [
        "###Insert values"
      ],
      "metadata": {
        "id": "abqxJP6uF55_"
      }
    },
    {
      "cell_type": "markdown",
      "source": [
        "\n",
        "\n",
        "```\n",
        "INSERT INTO employee (EmpID, EmpFname, EmpLname, Department, Project, Address, DOB, Gender)\n",
        "VALUES\n",
        "    (1, 'Sanjay', 'Mehra', 'HR', 'P1', 'Hyderabad(HYD)', '01/12/1976', 'M'),\n",
        "    (2, 'Ananya', 'Mishra', 'Admin', 'P2', 'Delhi(DEL)', '02/05/1968', 'F'),\n",
        "    (3, 'Rohan', 'Diwan', 'Account', 'P3', 'Mumbai(BOM)', '01/01/1980', 'M'),\n",
        "    (4, 'Sonia', 'Kulkarni', 'HR', 'P1', 'Hyderabad(HYD)', '02/05/1992', 'F'),\n",
        "    (5, 'Ankit', 'Kapoor', 'Admin', 'P2', 'Delhi(DEL)', '03/07/1994', 'M');\n",
        "\n",
        "\n",
        "```\n",
        "\n"
      ],
      "metadata": {
        "id": "kFVP7K65GNOb"
      }
    },
    {
      "cell_type": "markdown",
      "source": [
        "###Create employeepostion table"
      ],
      "metadata": {
        "id": "36iUjqOaGNK9"
      }
    },
    {
      "cell_type": "markdown",
      "source": [
        "\n",
        "\n",
        "```\n",
        "create table EmployeePosition (EmpID int  primary key not null,\n",
        "\t\t\t\t\t\t\t  EmpPosition varchar(50),\n",
        "\t\t\t\t\t\t\t  DateOfJoining date,\n",
        "\t\t\t\t\t\t\t  Salary int);\n",
        "```\n",
        "\n"
      ],
      "metadata": {
        "id": "MsTEW__zGNI6"
      }
    },
    {
      "cell_type": "markdown",
      "source": [
        "###Insert Values"
      ],
      "metadata": {
        "id": "u8C9bsSqGNGj"
      }
    },
    {
      "cell_type": "markdown",
      "source": [
        "\n",
        "\n",
        "```\n",
        "INSERT INTO EmployeePosition (EmpID, EmpPosition, DateOfJoining, Salary)\n",
        "VALUES\n",
        "    (1, 'Manager', '01/05/2022', 500000),\n",
        "    (2, 'Executive', '02/05/2022', 75000),\n",
        "    (3, 'Manager', '01/05/2022', 90000),\n",
        "    (4, 'Lead', '02/05/2022', 85000),\n",
        "    (5, 'Executive', '01/05/2022', 300000);\n",
        "\n",
        "```\n",
        "\n"
      ],
      "metadata": {
        "id": "nJSDfqUXGNEE"
      }
    },
    {
      "cell_type": "markdown",
      "source": [
        "###Q1. Write a query to fetch the EmpFname from the EmployeeInfo table in upper case and use the ALIAS name as EmpName.\n",
        "\n",
        "\n",
        "\n",
        "\n",
        "```\n",
        "select upper(empfname) as EmpName from employee;\n",
        "```\n",
        "\n"
      ],
      "metadata": {
        "id": "7khAC1NAGNBp"
      }
    },
    {
      "cell_type": "markdown",
      "source": [
        "###Q2. Write a query to fetch the number of employees working in the department ‘HR’.\n",
        "\n",
        "\n",
        "\n",
        "```\n",
        "select count(*) from employee\n",
        "where department='HR';\n",
        "```\n",
        "\n"
      ],
      "metadata": {
        "id": "aal4ZejSLjwX"
      }
    },
    {
      "cell_type": "markdown",
      "source": [
        "###Q3. Write a query to get the current date.\n",
        "\n",
        "\n",
        "```\n",
        "select current_date;\n",
        "```\n",
        "\n",
        "\n"
      ],
      "metadata": {
        "id": "1ggfXTa6GM_P"
      }
    },
    {
      "cell_type": "markdown",
      "source": [
        "###Q4. Write a query to retrieve the first four characters of  EmpLname from the EmployeeInfo table.\n",
        "\n",
        "\n",
        "```\n",
        "select left(emplname,4) from employee;\n",
        "\n",
        "```\n",
        "\n"
      ],
      "metadata": {
        "id": "wErcFKAYGM88"
      }
    },
    {
      "cell_type": "markdown",
      "source": [
        "###Q5. Write a query to fetch only the place name(string before brackets) from the Address column of EmployeeInfo table.\n",
        "\n",
        "\n",
        "\n",
        "```\n",
        "select substring(address,1,length(address)-5) from employee;\n",
        "```\n",
        "\n"
      ],
      "metadata": {
        "id": "zvmhYemXNijH"
      }
    },
    {
      "cell_type": "markdown",
      "source": [
        "###Q6. Write q query to find all the employees whose salary is between 50000 to 100000\n",
        "\n",
        "```\n",
        "\n",
        "select * from employee\n",
        "inner join employeeposition\n",
        "on employee.empid=employeeposition.empid\n",
        "where salary between 50000 and 100000;\n",
        "\n",
        "```\n",
        "\n"
      ],
      "metadata": {
        "id": "co9NfxanGM6k"
      }
    },
    {
      "cell_type": "markdown",
      "source": [
        "###Q8. Write a query to find the names of employees that begin with ‘S’\n",
        "\n",
        "\n",
        "\n",
        "```\n",
        "select concat(empfname,' ', emplname) as name from employee\n",
        "where empfname like 'S%';\n",
        "```\n",
        "\n"
      ],
      "metadata": {
        "id": "niXa1jptGM4L"
      }
    },
    {
      "cell_type": "markdown",
      "source": [
        "###Q9. Write a query to fetch top N records.\n",
        "\n",
        "\n",
        "\n",
        "```\n",
        "select * from employee\n",
        "limit N;\n",
        "```\n",
        "\n"
      ],
      "metadata": {
        "id": "eDuaBV55GM1v"
      }
    },
    {
      "cell_type": "markdown",
      "source": [
        "###Q11. Write a query find number of employees whose DOB is between 02/05/1970 to 31/12/1975 and are grouped according to gender\n",
        "\n",
        "\n",
        "\n",
        "```\n",
        "SELECT gender, COUNT(*) AS employee_count\n",
        "FROM employee\n",
        "WHERE dob BETWEEN '1968-05-02' AND '1975-12-31'\n",
        "GROUP BY gender;\n",
        "\n",
        "```\n",
        "\n"
      ],
      "metadata": {
        "id": "Xt2we7k5GMzH"
      }
    },
    {
      "cell_type": "markdown",
      "source": [
        "###Q12. Write a query to fetch all the records from the EmployeeInfo table ordered by EmpLname in descending order and Department in the ascending order.\n",
        "\n",
        "\n",
        "\n",
        "```\n",
        "select * from employee\n",
        "order by emplname desc,department asc;\n",
        "```\n",
        "\n"
      ],
      "metadata": {
        "id": "OuIvmrIaGMw9"
      }
    },
    {
      "cell_type": "markdown",
      "source": [
        "###Q13. Write a query to fetch details of employees whose EmpLname ends with an alphabet ‘A’ and contains five alphabets.\n",
        "\n",
        "\n",
        "\n",
        "```\n",
        "select * from employee\n",
        "where emplname like '____a%' and length(emplname)=5;\n",
        "```\n",
        "\n"
      ],
      "metadata": {
        "id": "qV7NSdBSGMuo"
      }
    },
    {
      "cell_type": "markdown",
      "source": [
        "###Q14. Write a query to fetch details of all employees excluding the employees with first names, “Sanjay” and “Sonia” from the EmployeeInfo table.\n",
        "\n",
        "\n",
        "\n",
        "```\n",
        "select * from employee\n",
        "where empfname not in ('Sanjay','Sonia');\n",
        "```\n",
        "\n"
      ],
      "metadata": {
        "id": "e0B8lh8CGMsL"
      }
    },
    {
      "cell_type": "markdown",
      "source": [
        "###Q16. Write a query to fetch all employees who also hold the managerial position.\n",
        "\n",
        "\n",
        "\n",
        "```\n",
        "select * from employee e\n",
        "inner join employeeposition p\n",
        "on e.empid=p.empid\n",
        "where p.empposition='Manager';\n",
        "\n",
        "```\n",
        "\n"
      ],
      "metadata": {
        "id": "bcmtWHxDGMqL"
      }
    },
    {
      "cell_type": "markdown",
      "source": [],
      "metadata": {
        "id": "DpQHQgBju7GW"
      }
    },
    {
      "cell_type": "markdown",
      "source": [],
      "metadata": {
        "id": "OuftgZF2u7D9"
      }
    },
    {
      "cell_type": "markdown",
      "source": [],
      "metadata": {
        "id": "ueCyLtoHu7BD"
      }
    },
    {
      "cell_type": "markdown",
      "source": [],
      "metadata": {
        "id": "-p9TenPXu6-x"
      }
    },
    {
      "cell_type": "markdown",
      "source": [],
      "metadata": {
        "id": "CUzDAAXNu68Y"
      }
    },
    {
      "cell_type": "markdown",
      "source": [],
      "metadata": {
        "id": "BtC9EZxpu65_"
      }
    },
    {
      "cell_type": "markdown",
      "source": [],
      "metadata": {
        "id": "KQC9Pudcu62E"
      }
    },
    {
      "cell_type": "markdown",
      "source": [],
      "metadata": {
        "id": "dyChnlSVu6y0"
      }
    },
    {
      "cell_type": "markdown",
      "source": [],
      "metadata": {
        "id": "95HKWQwJu6va"
      }
    },
    {
      "cell_type": "markdown",
      "source": [],
      "metadata": {
        "id": "FJlWFfGUu6tJ"
      }
    },
    {
      "cell_type": "markdown",
      "source": [],
      "metadata": {
        "id": "aKheWtYIu6pS"
      }
    }
  ]
}