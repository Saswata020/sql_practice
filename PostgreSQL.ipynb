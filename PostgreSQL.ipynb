{
  "nbformat": 4,
  "nbformat_minor": 0,
  "metadata": {
    "colab": {
      "provenance": [],
      "authorship_tag": "ABX9TyOyU67lzRnRaeHo3OGutbLR",
      "include_colab_link": true
    },
    "kernelspec": {
      "name": "python3",
      "display_name": "Python 3"
    },
    "language_info": {
      "name": "python"
    }
  },
  "cells": [
    {
      "cell_type": "markdown",
      "metadata": {
        "id": "view-in-github",
        "colab_type": "text"
      },
      "source": [
        "<a href=\"https://colab.research.google.com/github/Saswata020/sql_practice/blob/main/PostgreSQL.ipynb\" target=\"_parent\"><img src=\"https://colab.research.google.com/assets/colab-badge.svg\" alt=\"Open In Colab\"/></a>"
      ]
    },
    {
      "cell_type": "markdown",
      "source": [
        "1. Write a SQL statement to create a simple table countries including columns country_id,country_name and region_id."
      ],
      "metadata": {
        "id": "MnqLcVPNOO40"
      }
    },
    {
      "cell_type": "markdown",
      "source": [
        "\n",
        "\n",
        "```\n",
        "CREATE TABLE countries (\n",
        "    country_id INT PRIMARY KEY,\n",
        "    country_name VARCHAR(255),\n",
        "    region_id INT\n",
        ");\n",
        "\n",
        "```\n",
        "\n"
      ],
      "metadata": {
        "id": "j3teN1NGPPlZ"
      }
    },
    {
      "cell_type": "markdown",
      "source": [
        "2. Write a SQL statement to create a table named jobs including columns job_id, job_title, min_salary, max_salary and check whether the max_salary amount exceeding the upper limit 25000."
      ],
      "metadata": {
        "id": "QNe3zWyJPUhP"
      }
    },
    {
      "cell_type": "markdown",
      "source": [
        "\n",
        "\n",
        "```\n",
        "\n",
        "Create the jobs table\n",
        "CREATE TABLE jobs (\n",
        "    job_id INT PRIMARY KEY,\n",
        "    job_title VARCHAR(20),\n",
        "    min_salary INT NOT NULL,\n",
        "    max_salary INT NOT NULL\n",
        ");\n",
        "\n",
        "-- Insert some sample data into the jobs table (you can replace this with your own data)\n",
        "INSERT INTO jobs (job_id, job_title, min_salary, max_salary)\n",
        "VALUES\n",
        "    (1, 'Manager', 30000, 50000),\n",
        "    (2, 'Engineer', 25000, 45000),\n",
        "    (3, 'Analyst', 28000, 55000);\n",
        "\n",
        "-- Check for max_salary exceeding 25,000\n",
        "SELECT job_id, job_title, max_salary\n",
        "FROM jobs\n",
        "WHERE max_salary > 25000;\n",
        "\n",
        "```\n",
        "\n"
      ],
      "metadata": {
        "id": "91SGnnGIX6gW"
      }
    },
    {
      "cell_type": "markdown",
      "source": [
        "3.Write a SQL statement to create a table named countries including columns country_id, country_name and region_id and make sure that no countries except Italy, India and China will be entered in the table."
      ],
      "metadata": {
        "id": "pYePsY0VYX_y"
      }
    },
    {
      "cell_type": "markdown",
      "source": [
        "\n",
        "\n",
        "```\n",
        "\n",
        "CREATE TABLE countries (\n",
        "    country_id INT PRIMARY KEY,\n",
        "    country_name VARCHAR(255),\n",
        "    region_id INT,\n",
        "    CONSTRAINT allowed_countries CHECK (country_name IN ('Italy', 'India', 'China'))\n",
        ");\n",
        "\n",
        "```\n",
        "\n"
      ],
      "metadata": {
        "id": "PhjkBk38Yb2X"
      }
    },
    {
      "cell_type": "markdown",
      "source": [
        "4.Write a SQL statement to create a table named countries including columns country_id,country_name and region_id and make sure that no duplicate data against column country_id will be allowed at the time of insertion."
      ],
      "metadata": {
        "id": "MrvTR03uYqAR"
      }
    },
    {
      "cell_type": "markdown",
      "source": [
        "\n",
        "\n",
        "```\n",
        "CREATE TABLE countries (\n",
        "    country_id INT PRIMARY KEY,\n",
        "    country_name VARCHAR(255),\n",
        "    region_id INT,\n",
        "    CONSTRAINT unique_country_id UNIQUE (country_id)\n",
        ");\n",
        "\n",
        "```\n",
        "\n"
      ],
      "metadata": {
        "id": "xHjbRtTgbBIw"
      }
    },
    {
      "cell_type": "markdown",
      "source": [
        "5.Write a SQL statement to create a table named jobs including columns job_id, job_title, min_salary and max_salary, and make sure that, the default value for job_title is blank and min_salary is 8000 and max_salary is NULL will be entered automatically at the time of insertion if no value assigned for the specified columns"
      ],
      "metadata": {
        "id": "SyM8QaEAdDf2"
      }
    },
    {
      "cell_type": "markdown",
      "source": [
        "\n",
        "\n",
        "```\n",
        "CREATE TABLE jobs (\n",
        "    job_id INT PRIMARY KEY,\n",
        "    job_title VARCHAR(255) DEFAULT '',\n",
        "    min_salary INT DEFAULT 8000,\n",
        "    max_salary INT DEFAULT NULL\n",
        ");\n",
        "\n",
        "```\n",
        "\n"
      ],
      "metadata": {
        "id": "TgBEG_9WdHRt"
      }
    },
    {
      "cell_type": "markdown",
      "source": [
        "6.Write a SQL statement to create a table named countries including columns country_id, country_name and region_id and make sure that the country_id column will be a key field which will not contain any duplicate data at the time of insertion."
      ],
      "metadata": {
        "id": "6qSGTiX9fW9E"
      }
    },
    {
      "cell_type": "markdown",
      "source": [
        "\n",
        "\n",
        "```\n",
        "CREATE TABLE countries (\n",
        "    country_id INT PRIMARY KEY,\n",
        "    country_name VARCHAR(255),\n",
        "    region_id INT\n",
        ");\n",
        "\n",
        "```\n",
        "\n"
      ],
      "metadata": {
        "id": "4Dh-2p7IfY8n"
      }
    },
    {
      "cell_type": "code",
      "source": [],
      "metadata": {
        "id": "3l9ZVoC8dLtQ"
      },
      "execution_count": null,
      "outputs": []
    },
    {
      "cell_type": "code",
      "source": [],
      "metadata": {
        "id": "kTJNFts5dLiu"
      },
      "execution_count": null,
      "outputs": []
    },
    {
      "cell_type": "code",
      "source": [],
      "metadata": {
        "id": "8lPlZoY3dLZR"
      },
      "execution_count": null,
      "outputs": []
    },
    {
      "cell_type": "code",
      "execution_count": null,
      "metadata": {
        "id": "CS98VUqUNcqF"
      },
      "outputs": [],
      "source": []
    }
  ]
}